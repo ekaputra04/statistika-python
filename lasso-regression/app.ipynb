{
 "cells": [
  {
   "cell_type": "code",
   "execution_count": 1,
   "metadata": {},
   "outputs": [
    {
     "name": "stdout",
     "output_type": "stream",
     "text": [
      "Koefisien Lasso: [1.999928 0.       0.       0.      ]\n",
      "Intercept: 0.02400000000000091\n",
      "Mean Squared Error: 5.760000000000437e-05\n"
     ]
    }
   ],
   "source": [
    "import numpy as np\n",
    "import pandas as pd\n",
    "from sklearn.model_selection import train_test_split\n",
    "from sklearn.linear_model import Lasso\n",
    "from sklearn.metrics import mean_squared_error\n",
    "\n",
    "# Membuat DataFrame\n",
    "data = {\n",
    "    'Luas_Rumah': [150, 200, 250, 300, 350, 400, 450, 500],\n",
    "    'Jumlah_Kamar': [3, 4, 4, 5, 5, 6, 6, 7],\n",
    "    'Jarak_Pusat_Kota': [10, 15, 7, 20, 25, 5, 10, 15],\n",
    "    'Usia_Bangunan': [5, 10, 2, 15, 20, 3, 8, 10],\n",
    "    'Harga': [300, 400, 500, 600, 700, 800, 900, 1000]\n",
    "}\n",
    "\n",
    "df = pd.DataFrame(data)\n",
    "\n",
    "# Menentukan variabel independen dan dependen\n",
    "X = df[['Luas_Rumah', 'Jumlah_Kamar', 'Jarak_Pusat_Kota', 'Usia_Bangunan']]\n",
    "y = df['Harga']\n",
    "\n",
    "# Membagi dataset menjadi data training dan testing\n",
    "X_train, X_test, y_train, y_test = train_test_split(X, y, test_size=0.2, random_state=42)\n",
    "\n",
    "# Membuat dan melatih model Lasso\n",
    "lasso = Lasso(alpha=1.0)\n",
    "lasso.fit(X_train, y_train)\n",
    "\n",
    "# Memprediksi harga pada data testing\n",
    "y_pred = lasso.predict(X_test)\n",
    "\n",
    "# Menghitung Mean Squared Error (MSE)\n",
    "mse = mean_squared_error(y_test, y_pred)\n",
    "\n",
    "# Menampilkan hasil\n",
    "print(f\"Koefisien Lasso: {lasso.coef_}\")\n",
    "print(f\"Intercept: {lasso.intercept_}\")\n",
    "print(f\"Mean Squared Error: {mse}\")"
   ]
  }
 ],
 "metadata": {
  "kernelspec": {
   "display_name": "Python 3",
   "language": "python",
   "name": "python3"
  },
  "language_info": {
   "codemirror_mode": {
    "name": "ipython",
    "version": 3
   },
   "file_extension": ".py",
   "mimetype": "text/x-python",
   "name": "python",
   "nbconvert_exporter": "python",
   "pygments_lexer": "ipython3",
   "version": "3.11.5"
  }
 },
 "nbformat": 4,
 "nbformat_minor": 2
}
